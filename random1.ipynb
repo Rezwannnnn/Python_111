{
 "cells": [
  {
   "cell_type": "code",
   "execution_count": 44,
   "id": "9609dd78",
   "metadata": {},
   "outputs": [
    {
     "name": "stdout",
     "output_type": "stream",
     "text": [
      "hello\n",
      "bela\n",
      "hello\n",
      " bela\n",
      "hello \n",
      "bela\n",
      "hello \n",
      " bela\n"
     ]
    }
   ],
   "source": [
    "s ='hello\\nbela'\n",
    "print(s)\n",
    "#\\n use korle line break kore nicher line e jay(new line)\n",
    "s ='hello\\n bela'\n",
    "print(s)\n",
    "#\\n use korle tar upore space use korle only space print hbe orelse hbena\n",
    "s ='hello \\nbela'\n",
    "print(s)\n",
    "#\\n er age space thakle no one cares\n",
    "s ='hello \\n bela'\n",
    "print(s)\n",
    "#\\n er ager space tar kono patta nai porer space tar jonno bela er age space print hbe\n"
   ]
  },
  {
   "cell_type": "code",
   "execution_count": 43,
   "id": "9dd4e3ee",
   "metadata": {
    "scrolled": true
   },
   "outputs": [
    {
     "name": "stdout",
     "output_type": "stream",
     "text": [
      "hello\tbela\n",
      "hello\t bela\n",
      "hello \tbela\n",
      "hello \t bela\n"
     ]
    }
   ],
   "source": [
    "\n",
    "q = 'hello\\tbela'\n",
    "print(q)\n",
    "#\\t 4ta white space print kore\n",
    "q = 'hello\\t bela'\n",
    "print(q)\n",
    "q = 'hello \\tbela'\n",
    "print(q)\n",
    "q = 'hello \\t bela'\n",
    "print(q)"
   ]
  },
  {
   "cell_type": "code",
   "execution_count": 45,
   "id": "f29cd60e",
   "metadata": {},
   "outputs": [
    {
     "name": "stdout",
     "output_type": "stream",
     "text": [
      "hello\b bela\n",
      "hello\bbela\n",
      "hello \bbela\n",
      "hello  \b bela\n",
      "hell\b bela\n"
     ]
    }
   ],
   "source": [
    "#\\b ekta backspace print kore\n",
    "p = 'hello\\b bela'\n",
    "print(p)\n",
    "#o ke remove korlo\n",
    "p = 'hello\\bbela'\n",
    "print(p)\n",
    "#maje kintu space asbena na dile\n",
    "p = 'hello \\bbela'\n",
    "print(p)\n",
    "#hello er pore j space ta chilo oita remove korlo\n",
    "p = 'hello  \\b bela'\n",
    "print(p)\n",
    "p = 'hell\\b bela'\n",
    "print(p)"
   ]
  },
  {
   "cell_type": "code",
   "execution_count": 36,
   "id": "3d585624",
   "metadata": {
    "scrolled": false
   },
   "outputs": [
    {
     "name": "stdout",
     "output_type": "stream",
     "text": [
      "Hello Bob, I am Alice.\n",
      "Hello Bob, I am Alice.\n",
      "Hello Alice, I am Bob.\n",
      "Hello Alice, I am Bob.\n"
     ]
    }
   ],
   "source": [
    "#string er .format() use kore formatting kora hoy. {} er majhe giye index wise string format e value gulo print hbe\n",
    "s = 'Hello {}, I am {}.'.format('Bob','Alice')\n",
    "print(s)\n",
    "s = 'Hello {0}, I am {1}.'.format('Bob','Alice')\n",
    "print(s)\n",
    "s = 'Hello {1}, I am {0}.'.format('Bob','Alice')\n",
    "print(s)\n",
    "s = 'Hello {name2}, I am {name1}.'.format(name1 ='Bob',name2 ='Alice')\n",
    "print(s)\n",
    "#print(s)"
   ]
  },
  {
   "cell_type": "code",
   "execution_count": 37,
   "id": "988d4bd5",
   "metadata": {},
   "outputs": [
    {
     "name": "stdout",
     "output_type": "stream",
     "text": [
      "hello bob, lend me 100$?\n"
     ]
    }
   ],
   "source": [
    "s = 'hello {0}, lend me {1:d}$?'.format(\"bob\",100)\n",
    "print(s)\n",
    "#numver o format kora jay. here after lend me we can see {1:d}\n",
    "#{1} this part is the index and {:d} this stands for integer. "
   ]
  },
  {
   "cell_type": "code",
   "execution_count": 42,
   "id": "13149ebe",
   "metadata": {},
   "outputs": [
    {
     "name": "stdout",
     "output_type": "stream",
     "text": [
      "I have no money, but want to go on a tour, I need 65.346$\n"
     ]
    }
   ],
   "source": [
    "s = 'I have no {0}, but want to go on a {1}, I need {2:6.3f}$'.format('money','tour',65.345678)\n",
    "print(s)\n",
    "\n",
    "#eikhane format kora holo float number k. how? {2}is the index position.\n",
    "#{:6}means this there will be six digits after the float dot \n",
    "#and {.3} means we will only show 3 digits after the dot of float and {f} indicates float. \n",
    "#float dot er ager number kintu change hbena . final value is {2:6.3f} \n",
    "#$ dollar sign code er part na :3"
   ]
  },
  {
   "cell_type": "code",
   "execution_count": 16,
   "id": "981135b9",
   "metadata": {
    "scrolled": true
   },
   "outputs": [
    {
     "name": "stdout",
     "output_type": "stream",
     "text": [
      "in f1 \n",
      "in f3 n\n",
      "in f2 \n",
      "see\n",
      "in f1 \n",
      "in f3 n\n",
      "in f2 \n",
      "no\n"
     ]
    }
   ],
   "source": [
    "#function\n",
    "def f2():\n",
    "    f3()\n",
    "    print(\"in f2 \")\n",
    "    \n",
    "def main():\n",
    "    print(\"see\")\n",
    "    f1()\n",
    "    print(\"no\")\n",
    "    \n",
    "def f1():\n",
    "    print(\"in f1\")\n",
    "    \n",
    "def f1():\n",
    "    print(\"in f1 \")\n",
    "    f2()\n",
    "    \n",
    "k = f1\n",
    "k()\n",
    "\n",
    "\n",
    "if __name__ == \"__main__\":\n",
    "    main()\n"
   ]
  },
  {
   "cell_type": "code",
   "execution_count": 5,
   "id": "b8c6d0b0",
   "metadata": {},
   "outputs": [
    {
     "name": "stdout",
     "output_type": "stream",
     "text": [
      "3 1 2\n"
     ]
    }
   ],
   "source": [
    "print(\n",
    "    'wow! great! stunning!'.count(\"!\"),\n",
    "    \"wow! great! stunning!\".count(\"!\", 10, 20),\n",
    "    \"wow! great! stunning!\".count(\"!\", 10)\n",
    ")\n",
    "#what's happening? so amra jokhon count fnctn use kori tokhon total number of substring dekhay.(like the 1st one)\n",
    "#2nd tay ki hoy? eikhane \"!\" er pore j 10,20 ache eigulo kindof range er moto kaj kore"
   ]
  },
  {
   "cell_type": "code",
   "execution_count": 33,
   "id": "97f850c1",
   "metadata": {},
   "outputs": [
    {
     "name": "stdout",
     "output_type": "stream",
     "text": [
      "3\n",
      "2\n",
      "1\n",
      "0\n"
     ]
    }
   ],
   "source": [
    "print(\"wow! great! stunning!\".count('!',3))\n",
    "#see 0-3 er moddhe jeitai dao na keno '!' er pore output ashe 3\n",
    "print( \"wow! great! stunning!\".count('!',4))\n",
    "#4 dilam r sathe sathei 2 hoye gelo, 4-10 er moddhe jeitai dao na keno answer 2 asbe\n",
    "print( \"wow! great! stunning!\".count('!',11))\n",
    "#range 11 hoilei 1 asbe upto 20\n",
    "print( \"wow! great! stunning!\".count('!',21))\n",
    "#20 er pore to out of range "
   ]
  },
  {
   "cell_type": "code",
   "execution_count": 50,
   "id": "458bc263",
   "metadata": {},
   "outputs": [
    {
     "name": "stdout",
     "output_type": "stream",
     "text": [
      "['RivaldoRonaldinho']\n"
     ]
    }
   ],
   "source": [
    "lst =['Ronaldo','Messi','Rivaldo','Hazard']\n",
    "val = [min(lst[::2])+ 'Ronaldinho']\n",
    "print(val)"
   ]
  },
  {
   "cell_type": "code",
   "execution_count": 42,
   "id": "75eb04c1",
   "metadata": {},
   "outputs": [
    {
     "name": "stdout",
     "output_type": "stream",
     "text": [
      "['Hazard', 'Messi', 'Rivaldo', 'Ronaldo']\n",
      "Hazard\n",
      "Rivaldo\n"
     ]
    }
   ],
   "source": [
    "lst =['Ronaldo','Messi','Rivaldo','Hazard']\n",
    "lst.sort()\n",
    "print(lst)\n",
    "lst =['Ronaldo','Messi','Rivaldo','Hazard']\n",
    "val = min(lst)\n",
    "print(val)\n",
    "#as H has the least ASCII value.\n",
    "val1= min(lst[::2])\n",
    "print(val1)\n",
    "#val1 er slicing korlam. kore dui ghor pore 2no index er element print korlam"
   ]
  },
  {
   "cell_type": "code",
   "execution_count": 3,
   "id": "6fd6bfb5",
   "metadata": {},
   "outputs": [
    {
     "name": "stdout",
     "output_type": "stream",
     "text": [
      "[16, 14, 12, 10, 8, 6, 4]\n"
     ]
    }
   ],
   "source": [
    "lst =[2,4,6,8,10,12,14,16]\n",
    "lst = lst[7:0:-1]\n",
    "print(lst)\n"
   ]
  },
  {
   "cell_type": "code",
   "execution_count": 5,
   "id": "b5ead9e5",
   "metadata": {},
   "outputs": [
    {
     "name": "stdout",
     "output_type": "stream",
     "text": [
      "[2, 6, 12, 20, 30]\n"
     ]
    }
   ],
   "source": [
    "lst = [2,4,6,8,10]\n",
    "lst_comp = [sum(lst[0:i+1]) for i in range(0,len(lst))]\n",
    "print(lst_comp)"
   ]
  },
  {
   "cell_type": "code",
   "execution_count": null,
   "id": "3895f560",
   "metadata": {},
   "outputs": [],
   "source": []
  }
 ],
 "metadata": {
  "kernelspec": {
   "display_name": "Python 3",
   "language": "python",
   "name": "python3"
  },
  "language_info": {
   "codemirror_mode": {
    "name": "ipython",
    "version": 3
   },
   "file_extension": ".py",
   "mimetype": "text/x-python",
   "name": "python",
   "nbconvert_exporter": "python",
   "pygments_lexer": "ipython3",
   "version": "3.8.8"
  }
 },
 "nbformat": 4,
 "nbformat_minor": 5
}
