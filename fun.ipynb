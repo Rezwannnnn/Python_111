{
 "cells": [
  {
   "cell_type": "code",
   "execution_count": 3,
   "id": "7c5f4953",
   "metadata": {},
   "outputs": [
    {
     "name": "stdout",
     "output_type": "stream",
     "text": [
      "[]\n",
      "[1, 2, 3]\n",
      "[2, 3, 4]\n"
     ]
    }
   ],
   "source": [
    "#creating a list\n",
    "lst = []\n",
    "lst2 = [1,2,3]\n",
    "lst3 = list([2,3,4])\n",
    "print(lst)\n",
    "print(lst2)\n",
    "print(lst3)"
   ]
  },
  {
   "cell_type": "code",
   "execution_count": 2,
   "id": "4d15cde7",
   "metadata": {},
   "outputs": [
    {
     "name": "stdout",
     "output_type": "stream",
     "text": [
      "moon\n",
      "venus\n"
     ]
    }
   ],
   "source": [
    "#accessing a list element through index\n",
    "y = ['mars','saturn','moon',['jupyter','venus']]\n",
    "print(y[2])\n",
    "print(y[3][1])"
   ]
  },
  {
   "cell_type": "code",
   "execution_count": 4,
   "id": "15ddafc5",
   "metadata": {},
   "outputs": [
    {
     "name": "stdout",
     "output_type": "stream",
     "text": [
      "['mars', 'Earth', 'moon', ['jupyter', 'venus']]\n"
     ]
    }
   ],
   "source": [
    "#as list is mutable, we can change any value of a list from outside\n",
    "y = ['mars','saturn','moon',['jupyter','venus']]\n",
    "y[1] = 'Earth'       #this is how we change a value\n",
    "print(y)"
   ]
  },
  {
   "cell_type": "code",
   "execution_count": null,
   "id": "c56ce68c",
   "metadata": {},
   "outputs": [],
   "source": []
  },
  {
   "cell_type": "code",
   "execution_count": 8,
   "id": "5f7e0f11",
   "metadata": {},
   "outputs": [
    {
     "name": "stdout",
     "output_type": "stream",
     "text": [
      "['mars', 'saturn', 'moon', ['jupyter', 'venus'], 'sirius']\n",
      "['mars', 'saturn', 'moon', ['jupyter', 'venus'], 'andromida', 'milkyway']\n"
     ]
    }
   ],
   "source": [
    "#we can add elements in a list by using .append()/.extend()/.insert()\n",
    "\n",
    "#append(value) adds one item at the end of the code \n",
    "x = ['mars','saturn','moon',['jupyter','venus']]\n",
    "x.append('sirius')\n",
    "print(x)\n",
    "\n",
    "#extend(values) add several values at the end of the code\n",
    "y = ['mars','saturn','moon',['jupyter','venus']]\n",
    "y.extend(['andromida','milkyway'])\n",
    "print(y)\n",
    "\n"
   ]
  },
  {
   "cell_type": "code",
   "execution_count": 3,
   "id": "c7abd629",
   "metadata": {
    "scrolled": true
   },
   "outputs": [
    {
     "name": "stdout",
     "output_type": "stream",
     "text": [
      "1\n",
      "[1]\n",
      "3\n",
      "[1, 3]\n",
      "5\n",
      "[1, 3, 5]\n"
     ]
    }
   ],
   "source": [
    "#taking values from a user a putting them in a list in output\n",
    "lst = []                        #take a  blank list\n",
    "for i in range(3):              #use a loop\n",
    "    inp = int(input())          #take value inputs from the user\n",
    "    lst.append(inp)             #append those value inputs in the blank list\n",
    "    print(lst)"
   ]
  },
  {
   "cell_type": "code",
   "execution_count": 5,
   "id": "74815f0b",
   "metadata": {},
   "outputs": [
    {
     "name": "stdout",
     "output_type": "stream",
     "text": [
      "1\n",
      "23\n",
      "4\n",
      "[1, 23, 4]\n"
     ]
    }
   ],
   "source": [
    "#taking values from a user a putting them in a list in output\n",
    "lst = []\n",
    "for i in range(3):\n",
    "    inp = int(input())\n",
    "    lst.append(inp)\n",
    "print(lst)"
   ]
  },
  {
   "cell_type": "code",
   "execution_count": 16,
   "id": "77edc062",
   "metadata": {},
   "outputs": [
    {
     "name": "stdout",
     "output_type": "stream",
     "text": [
      "Enter a list: [ 10, 3, 5]\n",
      "[' 10', '3', '5']\n",
      "[10, 3, 5]\n"
     ]
    }
   ],
   "source": [
    "#taking a list from the user and work through it\n",
    "lyst =[]\n",
    "user_inp = input(\"Enter a list: \")[1:-1].split(', ')   \n",
    "print(user_inp)         #it's just to see how the comma's are spliting every values in the list\n",
    "                        #user is providing a list,slicing the user provider list's bracket[1:-1] and spliting the list by the value (',')\n",
    "for i in user_inp:\n",
    "    elem = int(i)\n",
    "    lyst.append(elem)        #we append values. it can't be more than one\n",
    "print(lyst)"
   ]
  },
  {
   "cell_type": "code",
   "execution_count": 8,
   "id": "feea201c",
   "metadata": {},
   "outputs": [
    {
     "name": "stdout",
     "output_type": "stream",
     "text": [
      "[25]\n"
     ]
    }
   ],
   "source": [
    "k = [10, 24, 25, 35, 70]                 #slicing a list\n",
    "print(k[2:-2])"
   ]
  },
  {
   "cell_type": "code",
   "execution_count": 6,
   "id": "6c0cf9d6",
   "metadata": {},
   "outputs": [
    {
     "name": "stdout",
     "output_type": "stream",
     "text": [
      "number of elements: 3\n",
      "enter key: name\n",
      "enter value: mouly\n",
      "enter key: age\n",
      "enter value: 21\n",
      "enter key: 21\n",
      "enter value: 300\n",
      "{'name': 'mouly', 'age': '21', '21': '300'}\n"
     ]
    }
   ],
   "source": [
    "#dictionary(user input)\n",
    "a = {}\n",
    "n = int(input(\"number of elements: \"))\n",
    "for i in range(n):\n",
    "    x = input(\"enter key: \")\n",
    "    y = input(\"enter value: \")\n",
    "    a.update({x:y})\n",
    "print(a)\n"
   ]
  },
  {
   "cell_type": "code",
   "execution_count": 6,
   "id": "f9712aea",
   "metadata": {},
   "outputs": [
    {
     "name": "stdout",
     "output_type": "stream",
     "text": [
      "{'a': 400, 'b': 300, 'c': 200, 'd': 700, 'e': 200}\n",
      "(200, 300, 400, 700)\n"
     ]
    }
   ],
   "source": [
    "dict1 = {'a': 100, 'b': 100, 'c': 200, 'd': 300}\n",
    "\n",
    "dict2 = {'a': 300, 'b': 200, 'd': 400, 'e': 200}\n",
    "\n",
    "myDict = {}\n",
    "li = []\n",
    "\n",
    "for x,y in dict1.items():\n",
    "    if x not in myDict.keys():\n",
    "        myDict.update({x : int(y)})\n",
    "    else:\n",
    "        myDict[x] += int(y)\n",
    "        \n",
    "for x,y in dict2.items():\n",
    "    if x not in myDict.keys():\n",
    "        myDict.update({x : int(y)})\n",
    "    else:\n",
    "        myDict[x] += int(y)\n",
    "\n",
    "print(myDict)\n",
    "\n",
    "for x in myDict.values():\n",
    "    if x not in li:\n",
    "        li.append(x)\n",
    "        \n",
    "li.sort()        \n",
    "myTup = tuple(li)\n",
    "\n",
    "print(myTup)           "
   ]
  },
  {
   "cell_type": "code",
   "execution_count": null,
   "id": "31e7ffed",
   "metadata": {},
   "outputs": [],
   "source": [
    "n = int(input('amount:'))\n",
    "for i in range(n):\n",
    "    x = input()\n",
    "    y = input()\n",
    "    dict1.update({x:y})\n",
    "#print(dict1)"
   ]
  },
  {
   "cell_type": "code",
   "execution_count": 10,
   "id": "44d93da8",
   "metadata": {},
   "outputs": [
    {
     "name": "stdout",
     "output_type": "stream",
     "text": [
      "{'name': 'azmary'}\n",
      "{'key1': 'no'}\n",
      "{'name': 'zini', 'age': 20}\n",
      "{'name': 'zini', 'age': 20, 'address': 'dhaka'}\n"
     ]
    }
   ],
   "source": [
    "\n",
    "\n",
    "mlb = {'name':'abira'}\n",
    "mlb['name'] = 'azmary'\n",
    "print(mlb)\n",
    "\n",
    "mlbw = {'key1':'pew','key1':'no'}\n",
    "print(mlbw)\n",
    "#keys should be unique and immutable.\n",
    "\n",
    "#dictionary is mutable.\n",
    "my_dict = {'name':'zon','age':20}\n",
    "my_dict['name'] = 'zini'\n",
    "print(my_dict)\n",
    "\n",
    "my_dict['address'] = 'dhaka'\n",
    "print(my_dict)\n",
    "GHI\n"
   ]
  },
  {
   "cell_type": "code",
   "execution_count": 12,
   "id": "a4d377f9",
   "metadata": {},
   "outputs": [
    {
     "name": "stdout",
     "output_type": "stream",
     "text": [
      "1 4 7 8 \n",
      "1 9 3 11 \n",
      "1 : 1, 4 : 9, 7 : 3, 8 : 11, "
     ]
    }
   ],
   "source": [
    "my_dict = {1:1 , 4:9 , 7:3, 8:11}\n",
    "for i in my_dict:\n",
    "    print(i, end= ' ')          #by printing i im getting all the keys\n",
    "print()\n",
    "    \n",
    "for i in my_dict:\n",
    "    print(my_dict[i], end = ' ')   #as i gives us keys, so variable[i] gives us values\n",
    "\n",
    "print()\n",
    "for x,y in my_dict.items():\n",
    "    print(x,':',y, end = ', ')"
   ]
  },
  {
   "cell_type": "code",
   "execution_count": 25,
   "id": "d84ddf85",
   "metadata": {},
   "outputs": [
    {
     "name": "stdout",
     "output_type": "stream",
     "text": [
      "{'Math': 0, 'English': 0, 'Physics': 0}\n",
      "['English', 'Math', 'Physics']\n"
     ]
    }
   ],
   "source": [
    "myDict = {}.fromkeys(['Math', 'English','Physics'],0)\n",
    "print(myDict)\n",
    "#ei dictionary k ekta list er moddhe niye ami sort korte pari\n",
    "print(list(sorted(myDict)))\n",
    "#it is sorted by ascii values and the sorted function only sorts the key values"
   ]
  },
  {
   "cell_type": "code",
   "execution_count": null,
   "id": "33bb087e",
   "metadata": {},
   "outputs": [],
   "source": []
  },
  {
   "cell_type": "code",
   "execution_count": 17,
   "id": "2fa213a5",
   "metadata": {},
   "outputs": [
    {
     "name": "stdout",
     "output_type": "stream",
     "text": [
      "{0: 0, 1: 1, 2: 4, 3: 9, 4: 16, 5: 25}\n",
      "{1: 1, 3: 9, 5: 25, 7: 49, 9: 81}\n"
     ]
    }
   ],
   "source": [
    "val = {}\n",
    "for i in range(6):\n",
    "    val[i] = i*i\n",
    "print(val)\n",
    "\n",
    "#or without using a loop i can also assign my values like this:\n",
    "\n",
    "valu = {i: i*i for i in range(11) if i%2 == 1}\n",
    "print(valu)\n",
    "#in the range of 11, if i%2 == 1 then i = i*i. if i is key, i*i is the value"
   ]
  },
  {
   "cell_type": "code",
   "execution_count": 24,
   "id": "c38e76c4",
   "metadata": {},
   "outputs": [
    {
     "name": "stdout",
     "output_type": "stream",
     "text": [
      "{'Math': 0, 'English': 0, 'Physics': 0}\n",
      "('Math', 0)\n",
      "('English', 0)\n",
      "('Physics', 0)\n"
     ]
    }
   ],
   "source": [
    "#.fromkeys() assigns default variable for particular key that is mentioned in the formkeys() method parameter.\n",
    "\n",
    "myDict = {}.fromkeys(['Math', 'English','Physics'],0)\n",
    "print(myDict)\n",
    "\n",
    "#we are getting all the keys and values by using .items \n",
    "for i in myDict.items():\n",
    "    print(i)"
   ]
  },
  {
   "cell_type": "code",
   "execution_count": 5,
   "id": "d57ac28c",
   "metadata": {},
   "outputs": [
    {
     "name": "stdout",
     "output_type": "stream",
     "text": [
      "dict_items([(1, 1), (2, 6), (3, 7), (4, 9), (9, 2)])\n",
      "dict_keys([1, 2, 3, 4, 9])\n",
      "dict_values([1, 6, 7, 9, 2])\n"
     ]
    }
   ],
   "source": [
    "squares = {1:1, 2:6, 3:7, 4:9, 9:2}\n",
    "print(squares.items())      #items show both key and values\n",
    "print(squares.keys())\n",
    "print(squares.values())"
   ]
  },
  {
   "cell_type": "code",
   "execution_count": 4,
   "id": "904259f1",
   "metadata": {},
   "outputs": [
    {
     "name": "stdout",
     "output_type": "stream",
     "text": [
      "False\n",
      "True\n",
      "False\n",
      "True\n",
      "7\n",
      "[0, 1, 2, 3, 4, 9, 10]\n"
     ]
    }
   ],
   "source": [
    "squares = {3: 4, 1:1, 2:6, 0:7, 4:9, 9:2}\n",
    "#all,any,len,sorted\n",
    "#all and any checks whether I have a 0 key or not \n",
    "print(all(squares)) #cause i have a key which is 0\n",
    "\n",
    "squares = {3: 4, 1:1, 2:6, 10:7, 4:9, 9:2}\n",
    "print(all(squares))\n",
    "#any() shows whether any of the key is greater than 0 or not\n",
    "m = {0:3}\n",
    "print(any(m))\n",
    "m = {3: 4, 1:1, 2:6, 0:7, 4:9, 9:2}\n",
    "print(any(m))\n",
    "\n",
    "#len shows the length of the dic(keys)\n",
    "\n",
    "square = {3: 4, 1: 1, 2: 6, 10: 20, 0:7, 4:9, 9:2}\n",
    "print(len(square))\n",
    "print(sorted(square)) #it sorts all the keys\n"
   ]
  },
  {
   "cell_type": "code",
   "execution_count": 20,
   "id": "bb270225",
   "metadata": {},
   "outputs": [
    {
     "name": "stdout",
     "output_type": "stream",
     "text": [
      "True\n",
      "False\n",
      "False\n"
     ]
    }
   ],
   "source": [
    "#membership test(it only works for keys)\n",
    "squares = {1:1, 2:6, 3:7, 4:9, 9:2}\n",
    "print(2 in squares)\n",
    "print(9 not in squares)\n",
    "print(6 in squares) #as we dont have any key defined as 6\n"
   ]
  },
  {
   "cell_type": "code",
   "execution_count": 26,
   "id": "182ca6bb",
   "metadata": {},
   "outputs": [
    {
     "name": "stdout",
     "output_type": "stream",
     "text": [
      "Bracu1234\n",
      "acruB1324\n"
     ]
    }
   ],
   "source": [
    "s = input()\n",
    "lw = []\n",
    "up = []\n",
    "dig = []\n",
    "for i in s:\n",
    "    if(ord(i) > 96 and ord(i)< 123):\n",
    "        lw.append(i)\n",
    "    elif(ord(i)> 64 and ord(i)< 91):\n",
    "        up.append(i)\n",
    "    else:\n",
    "        dig.append(i)\n",
    "\n",
    "varify = []        \n",
    "for x in dig:\n",
    "    varify.append(int(x))\n",
    "#print(varify)\n",
    "\n",
    "evn = []\n",
    "odd = []\n",
    "for y in varify:\n",
    "    if y % 2 == 0:\n",
    "        evn.append(y)\n",
    "        #print(evn)\n",
    "    else:\n",
    "        odd.append(y)\n",
    "        #print(odd)\n",
    "        \n",
    "sortevn = []    \n",
    "sortodd = []\n",
    "for p in sorted(evn):\n",
    "    sortevn.append(str(p))\n",
    "#print(sortevn)\n",
    "    \n",
    "for q in sorted(odd):\n",
    "    sortodd.append(str(q))\n",
    "#print(sortodd)\n",
    "    \n",
    "flst = sorted(lw) + sorted(up) + sortodd + sortevn\n",
    "#print(flst)\n",
    "fstr = ''\n",
    "for i in flst:\n",
    "    fstr += i\n",
    "    \n",
    "print(fstr)\n",
    "\n"
   ]
  },
  {
   "cell_type": "code",
   "execution_count": null,
   "id": "caa66bda",
   "metadata": {},
   "outputs": [],
   "source": [
    "#x = input()\n",
    "myDict = {}\n",
    "while(True):\n",
    "    x = input()\n",
    "    if x == \"STOP\":\n",
    "        break\n",
    "    else:\n",
    "        if x not in myDict:\n",
    "            myDict.update({x: 1})\n",
    "        else:\n",
    "            myDict[x] += 1\n",
    "            \n",
    "for x,y in myDict.items():\n",
    "    print(x,'-',y,' times')"
   ]
  },
  {
   "cell_type": "code",
   "execution_count": 57,
   "id": "55dee3ee",
   "metadata": {},
   "outputs": [
    {
     "name": "stdout",
     "output_type": "stream",
     "text": [
      "1 2\n",
      "(3, 4, 5, 6)\n",
      "{'a': 3, 'b': 5, 'c': 8}\n"
     ]
    }
   ],
   "source": [
    "def myFunction(this ,that, *args, **kwargs ):\n",
    "    print(this,that)\n",
    "    print(args)\n",
    "    print(kwargs)\n",
    "    \n",
    "x = myFunction(1,2,3,4,5,6, a= 3, b= 5, c=8)"
   ]
  },
  {
   "cell_type": "code",
   "execution_count": 58,
   "id": "ce49c01f",
   "metadata": {},
   "outputs": [
    {
     "name": "stdout",
     "output_type": "stream",
     "text": [
      "2\n"
     ]
    }
   ],
   "source": [
    "#recurtion - a function that call itselves\n",
    "def rec(x):\n",
    "    print(x+1)\n",
    "    #rec(x+1) don't do this.system will crash as the function is calling itself again and again\n",
    "    \n",
    "rec(1)"
   ]
  },
  {
   "cell_type": "code",
   "execution_count": 3,
   "id": "d4fa9089",
   "metadata": {
    "scrolled": true
   },
   "outputs": [
    {
     "name": "stdout",
     "output_type": "stream",
     "text": [
      "1\n",
      "2\n",
      "3\n",
      "4\n",
      "5\n",
      "6\n",
      "7\n",
      "8\n",
      "9\n",
      "10\n"
     ]
    }
   ],
   "source": [
    "def rec(x):\n",
    "    print(x)\n",
    "    if x<10:\n",
    "        rec(x+1)\n",
    "rec(1)"
   ]
  },
  {
   "cell_type": "code",
   "execution_count": 42,
   "id": "1cf69ad3",
   "metadata": {
    "scrolled": true
   },
   "outputs": [
    {
     "name": "stdout",
     "output_type": "stream",
     "text": [
      "before calling my function1\n",
      "in201\n",
      "after203\n"
     ]
    }
   ],
   "source": [
    "def myFunction():\n",
    "    global x\n",
    "    x = x + 100\n",
    "    print('in'+ str(x+100))\n",
    "    return x\n",
    "    \n",
    "x = 1\n",
    "print(\"before calling my function\"+ str(x))\n",
    "x = x + myFunction() + x\n",
    "#print(myFunction(x))\n",
    "#print(y)\n",
    "print(\"after\" + str(x))"
   ]
  },
  {
   "cell_type": "code",
   "execution_count": null,
   "id": "95c567ff",
   "metadata": {},
   "outputs": [],
   "source": []
  }
 ],
 "metadata": {
  "celltoolbar": "Raw Cell Format",
  "kernelspec": {
   "display_name": "Python 3",
   "language": "python",
   "name": "python3"
  },
  "language_info": {
   "codemirror_mode": {
    "name": "ipython",
    "version": 3
   },
   "file_extension": ".py",
   "mimetype": "text/x-python",
   "name": "python",
   "nbconvert_exporter": "python",
   "pygments_lexer": "ipython3",
   "version": "3.8.8"
  },
  "widgets": {
   "application/vnd.jupyter.widget-state+json": {
    "state": {},
    "version_major": 2,
    "version_minor": 0
   }
  }
 },
 "nbformat": 4,
 "nbformat_minor": 5
}
HIIIIIIIIIIIIIIIIIIII
